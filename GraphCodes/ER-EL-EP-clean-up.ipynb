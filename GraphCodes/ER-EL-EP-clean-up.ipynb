{
 "cells": [
  {
   "cell_type": "code",
   "execution_count": 5,
   "metadata": {},
   "outputs": [],
   "source": [
    "import os, fnmatch\n",
    "def clean_up_for_parser(entry):\n",
    "    filename = 'processed-'+entry\n",
    "    print(filename)\n",
    "    f=open(filename,\"a\")\n",
    "    with open(entry) as fp:\n",
    "        for line in fp:\n",
    "            if line[:15] == \"!:partner_token\":\n",
    "                partner = line[16:].rstrip()\n",
    "                f.write('['+partner+']'+'\\n')\n",
    "            if line ==\"[Adblock Plus 2.0]\"+'\\n':\n",
    "                continue\n",
    "            if line[0] == \"!\":\n",
    "                continue\n",
    "            else:\n",
    "                f.write(line)\n",
    "    f.close()\n",
    "\n",
    "    return filename"
   ]
  },
  {
   "cell_type": "code",
   "execution_count": 9,
   "metadata": {},
   "outputs": [
    {
     "name": "stdout",
     "output_type": "stream",
     "text": [
      "Running --> exceptionrules-2016-march.txt\n",
      "processed-exceptionrules-2016-march.txt\n",
      "Running --> exceptionrules-2017-march.txt\n",
      "processed-exceptionrules-2017-march.txt\n",
      "Running --> exceptionrules-2012-march.txt\n",
      "processed-exceptionrules-2012-march.txt\n",
      "Running --> exceptionrules-2019-march.txt\n",
      "processed-exceptionrules-2019-march.txt\n",
      "Running --> exceptionrules-2014-march.txt\n",
      "processed-exceptionrules-2014-march.txt\n",
      "Running --> exceptionrules-2013-march.txt\n",
      "processed-exceptionrules-2013-march.txt\n",
      "Running --> exceptionrules-2018-march.txt\n",
      "processed-exceptionrules-2018-march.txt\n",
      "Running --> exceptionrules-2015-march.txt\n",
      "processed-exceptionrules-2015-march.txt\n"
     ]
    }
   ],
   "source": [
    "listOfFiles = os.listdir('/Users/prashanthikanniapanmurthy/Desktop/Evolution-of-tracker-blocking-lists/GraphCodes')\n",
    "pattern = \"exception*.txt\"\n",
    "\n",
    "# delete the files if present \n",
    "\n",
    "for entry in listOfFiles:\n",
    "    if fnmatch.fnmatch(entry, pattern):\n",
    "        with open(entry,\"r\") as fi:\n",
    "            print(\"Running -->\", entry)\n",
    "            clean_up_for_parser(entry)"
   ]
  },
  {
   "cell_type": "code",
   "execution_count": null,
   "metadata": {},
   "outputs": [],
   "source": []
  }
 ],
 "metadata": {
  "kernelspec": {
   "display_name": "Python 3",
   "language": "python",
   "name": "python3"
  },
  "language_info": {
   "codemirror_mode": {
    "name": "ipython",
    "version": 3
   },
   "file_extension": ".py",
   "mimetype": "text/x-python",
   "name": "python",
   "nbconvert_exporter": "python",
   "pygments_lexer": "ipython3",
   "version": "3.7.4"
  }
 },
 "nbformat": 4,
 "nbformat_minor": 2
}
