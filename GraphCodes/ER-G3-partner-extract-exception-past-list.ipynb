{
 "cells": [
  {
   "cell_type": "code",
   "execution_count": 43,
   "metadata": {},
   "outputs": [],
   "source": [
    "import os, fnmatch\n",
    "from matplotlib.pylab import plt\n",
    "def clean_up_for_parser(entry):\n",
    "    filename = 'extract-partners-'+entry\n",
    "    print(filename)\n",
    "    f=open(filename,\"a\")\n",
    "    with open(entry) as fp:\n",
    "        for line in fp:\n",
    "            if line[:11] == '! Checksum:':\n",
    "                continue\n",
    "            elif line[:10] == '! Version:':\n",
    "                continue\n",
    "            elif line[:10] == '! Expires:':\n",
    "                continue\n",
    "            elif line[:8] == '! Title:':\n",
    "                continue\n",
    "            elif line[:11] =='! Homepage:':\n",
    "                continue\n",
    "            elif line == '!':\n",
    "                continue\n",
    "            elif line[:16] == '! *** exceptions':\n",
    "                continue\n",
    "            elif line[:3] == '!@@':\n",
    "                continue\n",
    "            elif line[:3] == '! @':\n",
    "                continue\n",
    "            elif line[:3] == '! #':\n",
    "                continue\n",
    "            elif line[:3] == '! |':\n",
    "                continue\n",
    "            elif line[:3] == '! /':\n",
    "                continue\n",
    "            elif line[:2] =='!/':\n",
    "                continue\n",
    "            elif '#@#' in line:\n",
    "                continue\n",
    "            elif '##' in line:\n",
    "                continue\n",
    "            elif line[0] == \"!\":\n",
    "                if '(' in line:\n",
    "                    start = line.index('(')\n",
    "                    f.write(line[:start])  \n",
    "                    f.write('\\n')\n",
    "                else: \n",
    "                    f.write(line)\n",
    "    f.close()\n",
    "\n",
    "    return filename"
   ]
  },
  {
   "cell_type": "code",
   "execution_count": 44,
   "metadata": {},
   "outputs": [
    {
     "name": "stdout",
     "output_type": "stream",
     "text": [
      "Running --> exceptionrules-2016-march.txt\n",
      "extract-partners-exceptionrules-2016-march.txt\n",
      "Running --> exceptionrules-2017-march.txt\n",
      "extract-partners-exceptionrules-2017-march.txt\n",
      "Running --> exceptionrules-2012-march.txt\n",
      "extract-partners-exceptionrules-2012-march.txt\n",
      "Running --> exceptionrules-2014-march.txt\n",
      "extract-partners-exceptionrules-2014-march.txt\n",
      "Running --> exceptionrules-2013-march.txt\n",
      "extract-partners-exceptionrules-2013-march.txt\n",
      "Running --> exceptionrules-2018-march.txt\n",
      "extract-partners-exceptionrules-2018-march.txt\n",
      "Running --> exceptionrules-2015-march.txt\n",
      "extract-partners-exceptionrules-2015-march.txt\n"
     ]
    }
   ],
   "source": [
    "listOfFiles = os.listdir('/Users/prashanthikanniapanmurthy/Desktop/Evolution-of-tracker-blocking-lists/GraphCodes')\n",
    "pattern = \"exception*.txt\"\n",
    "\n",
    "# delete the files if present \n",
    "\n",
    "for entry in listOfFiles:\n",
    "    if fnmatch.fnmatch(entry, pattern):\n",
    "        with open(entry,\"r\") as fi:\n",
    "            if '2019' in entry:\n",
    "                continue\n",
    "            print(\"Running -->\", entry)\n",
    "            clean_up_for_parser(entry)"
   ]
  },
  {
   "cell_type": "code",
   "execution_count": 52,
   "metadata": {},
   "outputs": [
    {
     "data": {
      "image/png": "[encoded data removed]",
      "text/plain": [
       "<Figure size 432x288 with 1 Axes>"
      ]
     },
     "metadata": {
      "needs_background": "light"
     },
     "output_type": "display_data"
    }
   ],
   "source": [
    "listOfFiles = os.listdir('/Users/prashanthikanniapanmurthy/Desktop/Evolution-of-tracker-blocking-lists/GraphCodes')\n",
    "pattern = \"extract-partners-exceptionrules*.txt\"\n",
    "\n",
    "data_tmp = {}\n",
    "for entry in listOfFiles:\n",
    "    if fnmatch.fnmatch(entry, pattern):\n",
    "        unique = set()\n",
    "        with open(entry) as fp:\n",
    "            for line in fp:\n",
    "                unique.add(line)\n",
    "        \n",
    "        year = entry.split('-')[3]\n",
    "        data_tmp.update({year:len(unique)})\n",
    "\n",
    "# print(data_tmp)\n",
    "\n",
    "data = {}\n",
    "\n",
    "listofTuples = sorted(data_tmp.items(), key=lambda x: x[0])\n",
    "\n",
    "for elem in listofTuples:\n",
    "    data.update({elem[0]:elem[1]})\n",
    "    \n",
    "# print(data)\n",
    "x =list(data.keys())\n",
    "x.append('2019')\n",
    "y = []\n",
    "for key in data.keys():\n",
    "    y.append(data[key])\n",
    "y.append(637) # extracted from ER-G1-2-affiliates-firstParty code\n",
    "\n",
    "# for i in range(len(x)):\n",
    "#     print(x[i],y[i])\n",
    "    \n",
    "plt.plot(x,y,'--bo')\n",
    "plt.xlabel(\"Years\")\n",
    "plt.ylabel(\"# of sections in list\")\n",
    "plt.show()\n",
    "        \n",
    "    "
   ]
  },
  {
   "cell_type": "code",
   "execution_count": null,
   "metadata": {},
   "outputs": [],
   "source": []
  }
 ],
 "metadata": {
  "kernelspec": {
   "display_name": "Python 3",
   "language": "python",
   "name": "python3"
  },
  "language_info": {
   "codemirror_mode": {
    "name": "ipython",
    "version": 3
   },
   "file_extension": ".py",
   "mimetype": "text/x-python",
   "name": "python",
   "nbconvert_exporter": "python",
   "pygments_lexer": "ipython3",
   "version": "3.7.4"
  }
 },
 "nbformat": 4,
 "nbformat_minor": 2
}
